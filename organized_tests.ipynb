{
 "cells": [
  {
   "cell_type": "markdown",
   "id": "2484adc1-9a2e-4d6c-842e-9458eff1dc8c",
   "metadata": {},
   "source": [
    "# IOTA + microgrid tests"
   ]
  },
  {
   "cell_type": "code",
   "execution_count": 1,
   "id": "3d6706e9-407f-4901-8733-7b2572441e50",
   "metadata": {},
   "outputs": [],
   "source": [
    "from iota import ProposedTransaction, Address, Tag, TryteString, Iota, Transaction\n",
    "from iota.crypto.types import Seed\n",
    "import json\n",
    "import pandapower as pp\n",
    "import numpy as np\n",
    "from numpy.random import rand\n",
    "import pandas as pd\n",
    "import os\n",
    "import pprint"
   ]
  },
  {
   "cell_type": "markdown",
   "id": "a34efc03-6f6d-4240-9dcd-ec74a0eb3915",
   "metadata": {},
   "source": [
    "### General parameters"
   ]
  },
  {
   "cell_type": "code",
   "execution_count": 2,
   "id": "7619818f-a360-42f6-9e4c-a52887d1b877",
   "metadata": {},
   "outputs": [],
   "source": [
    "demand_file_path = os.path.join('data', 'demand.csv')\n",
    "price_file_path = os.path.join('data', 'price.csv')\n",
    "supply_file_path = os.path.join('data', 'supply.csv')"
   ]
  },
  {
   "cell_type": "markdown",
   "id": "738187d7-6d7b-48d0-a2e8-197320b71f72",
   "metadata": {},
   "source": [
    "### IOTA seed creation"
   ]
  },
  {
   "cell_type": "code",
   "execution_count": 3,
   "id": "35602307-e9c2-46f7-8975-7499a91fdff3",
   "metadata": {},
   "outputs": [],
   "source": [
    "demand = pd.read_csv(demand_file_path, index_col=0, header=None)\n",
    "supply = pd.read_csv(supply_file_path, index_col=0, header=None)\n",
    "price = pd.read_csv(price_file_path, index_col=0, header=None)\n",
    "num_agents = demand.shape[0]\n",
    "num_household = demand.shape[0]\n",
    "steps = demand.shape[1]"
   ]
  },
  {
   "cell_type": "code",
   "execution_count": 4,
   "id": "cd1b6384-987d-45a4-8d24-a1b2e5aea851",
   "metadata": {},
   "outputs": [],
   "source": [
    "supply\n",
    "a_series = (supply != 0).any(axis=1)\n",
    "new_df = supply.loc[a_series]"
   ]
  },
  {
   "cell_type": "code",
   "execution_count": 5,
   "id": "4e3ca817-6464-4041-ae0f-acea2ca1dc25",
   "metadata": {},
   "outputs": [],
   "source": [
    "gen_nodes = np.array(new_df.index)"
   ]
  },
  {
   "cell_type": "code",
   "execution_count": 6,
   "id": "a2a92895-47d7-4c2c-9db6-48cccc6d01a3",
   "metadata": {},
   "outputs": [],
   "source": [
    "my_seed = Seed.random()\n",
    "api = Iota('https://nodes.devnet.iota.org:443')\n",
    "total_addresses = steps * (2 * num_agents + 1)\n",
    "addresses = api.get_new_addresses(count=total_addresses)['addresses']"
   ]
  },
  {
   "cell_type": "markdown",
   "id": "df07db8c-cdca-4cdb-ac63-113a4edcee6d",
   "metadata": {},
   "source": [
    "### Address generation"
   ]
  },
  {
   "cell_type": "code",
   "execution_count": 7,
   "id": "575ac8c6-3236-43f8-83ff-91591a8ca77b",
   "metadata": {},
   "outputs": [],
   "source": [
    "price_addresses_splits = []\n",
    "money_addresses_splits = []\n",
    "addresses1 = addresses[num_agents*steps:]\n",
    "addresses2 = addresses[:num_agents*steps]\n",
    "for agent in range(0, num_agents):\n",
    "    price_addresses_splits.append(addresses1[agent*steps:agent*steps+steps])\n",
    "    money_addresses_splits.append(addresses2[agent*steps:agent*steps+steps])\n",
    "publish_addresses = addresses1[-steps:]"
   ]
  },
  {
   "cell_type": "code",
   "execution_count": 8,
   "id": "87e892c3-a31f-4c87-a632-2a4a63b36869",
   "metadata": {},
   "outputs": [
    {
     "data": {
      "text/plain": [
       "104"
      ]
     },
     "execution_count": 8,
     "metadata": {},
     "output_type": "execute_result"
    }
   ],
   "source": [
    "len(addresses)"
   ]
  },
  {
   "cell_type": "code",
   "execution_count": 9,
   "id": "b00477eb-f97c-49ec-b7f6-288c20ed998e",
   "metadata": {},
   "outputs": [],
   "source": [
    "# Agent class definition\n",
    "\n",
    "class Agent:\n",
    "    def __init__(self, demand, supply, node, publish_address, price_address, money_address, price):\n",
    "        \"\"\" Initialize agent instance.\n",
    "        \n",
    "        Args: price\n",
    "            demand (list): list of floats with demand data\n",
    "            supply (list): list of floats with supply. Ceros if no supply.\n",
    "            node (float): number of the node.\n",
    "            publish_address (list): list of iota.types.Address with the publish address.\n",
    "            price_address (list): list of node's price addresses.\n",
    "            money_address (list): list of node's money addresses.\n",
    "            price (list): list of prices for supply offers.\n",
    "        \"\"\"\n",
    "        self.demand = demand\n",
    "        self.supply = supply\n",
    "        self.node = node\n",
    "        self.publish_address = publish_address\n",
    "        self.price_address = price_address\n",
    "        self.money_address = money_address\n",
    "        self.consumption = demand-supply\n",
    "        self.price = price\n",
    "    \n",
    "    def publish_info(self, data, address):\n",
    "        \"\"\" Send transaction with data to specified address\n",
    "        \n",
    "        Args:\n",
    "            data (dict): information to be sent.\n",
    "            address (iota.types.Address): Destination address for information\n",
    "        \"\"\"\n",
    "        # Build TX object\n",
    "        tx = ProposedTransaction(\n",
    "            address = Address(address),\n",
    "            message = TryteString.from_unicode(json.dumps(data)),\n",
    "            tag = Tag('INFO'),\n",
    "            value = 0)\n",
    "        # Send information\n",
    "        tx = api.prepare_transfer(transfers=[tx])\n",
    "        result = api.send_trytes(tx['trytes'], depth=3, min_weight_magnitude=9)\n",
    "        return result\n",
    "    \n",
    "    def pay_power(self, step):\n",
    "        \"\"\" Send power payment\n",
    "        \n",
    "        Args:\n",
    "            step (float): step running at the moment.\n",
    "        \"\"\"\n",
    "        unpack_data = self.check_address(step, 'price')\n",
    "        for index, node in enumerate(unpack_data[0]['node']):\n",
    "            data_to_send = {'payment': unpack_data[0]['price']*unpack_data[0]['power'][index]}\n",
    "            address = self.address_dict[node]['money_address'][step]\n",
    "            self.publish_info(data_to_send, address)\n",
    "        \n",
    "    def publish_energy_info(self, step):\n",
    "        \"\"\" Build and send energy information\n",
    "        \n",
    "        Args:\n",
    "            step (float): Step running at the moment.\n",
    "        \"\"\"\n",
    "        data = {'node': self.node,\n",
    "                'demand': self.demand[step],\n",
    "                'supply': self.supply[step],\n",
    "                'consumption': self.consumption[step],\n",
    "                'price': self.price[step]}\n",
    "        address = self.publish_address[step]\n",
    "        self.publish_info(data, address)\n",
    "        return data\n",
    "    \n",
    "    def check_address(self, step, address_type):\n",
    "        \"\"\" Recover information from address.\n",
    "        \n",
    "        Args:\n",
    "            step (float): Step running at the moment.\n",
    "            address_type (str): Vector code to look for the address\n",
    "        \"\"\"\n",
    "        \n",
    "        if address_type == 'price':\n",
    "            address = self.price_address[step]\n",
    "        elif address_type == 'money':\n",
    "            address = self.money_address[step]\n",
    "        \n",
    "        transactions = api.find_transactions(addresses=[address,])\n",
    "\n",
    "        hashes = []\n",
    "        for txhash in transactions['hashes']:\n",
    "            hashes.append(txhash)\n",
    "\n",
    "        trytes = api.get_trytes(hashes)['trytes']\n",
    "\n",
    "        parts = []\n",
    "        for trytestring in trytes:\n",
    "            tx = Transaction.from_tryte_string(trytestring)\n",
    "            parts.append((tx.current_index, tx.signature_message_fragment))\n",
    "\n",
    "        parts.sort(key=lambda x: x[0])\n",
    "\n",
    "        full_message = TryteString.from_unicode('')\n",
    "\n",
    "        retrieved_data = []\n",
    "        for index, part in parts:\n",
    "            retrieved_data.append(json.loads(part.decode(errors='ignore')))\n",
    "        return retrieved_data\n",
    "    \n",
    "    def get_demand(self):\n",
    "        # Visualize demand\n",
    "        return self.demand\n",
    "    \n",
    "    def get_supply(self):\n",
    "        # Visualize supply\n",
    "        return self.supply\n",
    "    \n",
    "    def get_node(self):\n",
    "        # Visualize node\n",
    "        return self.node\n",
    "    \n",
    "    def get_price_address(self):\n",
    "        # Visualize price address\n",
    "        return self.price_address\n",
    "    \n",
    "    def get_money_address(self):\n",
    "        # Visualize money address\n",
    "        return self.money_address\n",
    "    \n",
    "    def get_consumption(self):\n",
    "        # Visualize consumption\n",
    "        return self.consumption\n",
    "    \n",
    "    def get_prices(self):\n",
    "        # Visualize price\n",
    "        return self.price\n",
    "    \n",
    "    def assign_address_dict(self, address_dict):\n",
    "        \"\"\" Assign address dict to node\n",
    "        \n",
    "        Args:\n",
    "            address_dict (dict): With known addresses for each node (price and money) and publish addresses\n",
    "        \"\"\"\n",
    "        self.address_dict = address_dict"
   ]
  },
  {
   "cell_type": "markdown",
   "id": "aa9a1ad0-a327-40e4-8476-c2dc9a8aee9b",
   "metadata": {},
   "source": [
    "### Agent creation"
   ]
  },
  {
   "cell_type": "code",
   "execution_count": 10,
   "id": "78da33fd-d920-4e51-ba86-44d62c44ac8c",
   "metadata": {},
   "outputs": [],
   "source": [
    "demand = pd.read_csv(demand_file_path, header=None, index_col=0)\n",
    "supply = pd.read_csv(supply_file_path, header=None, index_col=0)\n",
    "price = pd.read_csv(price_file_path, header=None, index_col=0)\n",
    "num_agents = demand.shape[0]\n",
    "num_household = demand.shape[0]\n",
    "steps = demand.shape[1]"
   ]
  },
  {
   "cell_type": "code",
   "execution_count": 11,
   "id": "9a70a719-7709-473f-9bd8-a46931616b21",
   "metadata": {},
   "outputs": [
    {
     "data": {
      "text/plain": [
       "[[Address(b'EIZI9GDTERVUDFLCYHRXRZLWYOZORMEEIQOZDKTQX9PPFGVADKTJONHFCJUGWGNFQDUUPVYIUHBECUEOD'),\n",
       "  Address(b'HGXDISMTVPJFUFYEKSFHPZCSTXBQWHRCAVLANTHCQXTYKQVENBTOZVSJQWUQWQY9MDTHSTRHKQWIXPBTW'),\n",
       "  Address(b'TBPZQEOUDLZAUFQYMSEGPBVYEWRTBNUOTPVFWOKLXJ9STADJ9FIMERFNMNGLYF9AMSPIWSGEMX9JDNSWB'),\n",
       "  Address(b'NBBABVXYQIBISGPZGLLEGU9TNWONWWSGKVXSIYXLCOVVNXWUE9TFDPSWPL9IVVSXTSGQV9ITRBGFRTWGW'),\n",
       "  Address(b'INUIVNWLYDTCDWQKFAZEVYPPBUS99JMAFPWYYEVUPELUVWRGICUVASQGXE9XFVIVEBUAJPNPVGOSTLPEX'),\n",
       "  Address(b'9YGIHQOCPSUHDIMKCIKZABQKUAAUTGERTQ9NCYMMCMCIJUUYXDHKPZKLJTMQX9LVMOOYGDUJRFHKKUDV9'),\n",
       "  Address(b'QVSSFCVYOTQUVPFCAAFHBJQNCR9NLFTJEJJRFJ9SBQFPKTVDHCPDZMTZ9ZCSAWRHDNCYUZARJBEIJJX9C'),\n",
       "  Address(b'GPROKWCDLQYRDUHYTOHPIDWTJVUVZCSG9XJTVZOTOSBMWMRLQVWUD9YDZXIVUPLROTRSQBHDGYAWYNQTC')],\n",
       " [Address(b'TKDFRRTIPCRDSSDWIEZZJLWEGVU9MGUUTPWBEBIRAAGBBZIHBDYE9EPOGOZQ9ZNGEKFJNBLB9ERXACUCC'),\n",
       "  Address(b'RWYNHDTLQHROQOXICQMHJQRIYDRONXLRBTADWWV9WWCZJJEYJHTONCP9UQUDIYOZZBCJNQMSEIKYCT9LA'),\n",
       "  Address(b'PPWCG9WJQVQWRZ9CYTGKWSSHDZIDUEHKYGXNPWKSXPWNENG9NGYXITWTNMDTJSLOXHKQNUEJQSQGJUIAW'),\n",
       "  Address(b'IRMDFQSVAOUNYVOU9FOGBANCDIZIVOVSJHBSFN99KUQSYYCUGFNQEXNRMIFEVLIBSVNBNFX9YHFLTJKMZ'),\n",
       "  Address(b'RWXXVGQQXVWGUSZEGZMJJZ9SKZARQREEPOOEEOTFBZRLZCFBZRMKD9XLOHMTGCNGQKQWZKEM9Q9SNYRUX'),\n",
       "  Address(b'VPMSWCNWUVHJCSCDBE9XASQIGFCDAOBFPSPCABSXBRB9VMFZYSBROLHCECHJY9VWZHRPAGBNPVLU9BZUX'),\n",
       "  Address(b'OMKS9TKGDZPDNTUFHEKLGVBCBHSG9JVA99SLSVPUTAOHHJOAFOORNVTXA9VNDADQ9ODJQJ9EOGTTUBFWD'),\n",
       "  Address(b'ULVRYTBDSIYKACYPDKDOEEVLUXSVJZCNFHVOIINTHKGSMNCTCCQWZIZATUMDOWRWICAFYWMGJLHEXBWEW')],\n",
       " [Address(b'SVBFHJLOLKDYZ9INZD9TSWDIAGRKGNSPTWTQTIOTNSDCKRUUEMWEJPZQJBVHJKOFH9GRNF9ABCFQTKM99'),\n",
       "  Address(b'9EYAWFRXSLDVYVXGCUBJNZSKKMKXVFAUGNZ9ZFRUSC9XHLXZPJOVBHVSLDMLQZYOFSIDVHSDNSJPXMDED'),\n",
       "  Address(b'SEFZOEVXH9YXULKCOAAJLBYJBDVSLCYSYVPMAKIQRYENI9LISXVTXKXDSF9XSGJEAX9ZZ9AVGZA9LQJHB'),\n",
       "  Address(b'BSRZJPT9ZQ9MULALLUPPFHGYSWAJCDNBCXBS9IPVWBKGOBDCMZJVYBETO9GLZFNFNLEOE9GUKCGOCEJPD'),\n",
       "  Address(b'BWHTSGWKOVG9ZZYCMD9IPLA99EOGT9ZYLJSGVFIOLGTYBW9YXTVHGWZDMHCDUUX9CSRVHLLYHCSPSUYOW'),\n",
       "  Address(b'GDZWRKIXJYXYHIFBVYXLFEEME9PTDAALCHDKWTVHUMBGDDGLYSRDGB9WGR9RDTYYSMPBBCCRVOVW9YNJC'),\n",
       "  Address(b'TZNFKEWTCXZ9CBRGHB9ZVZUNRRLYLMNJWWRJJQGQIXKWQLQBWKZUQCO9PFSKX9OYHKDRNIDJXGVVAKCVD'),\n",
       "  Address(b'DBVTOBFKWXUQGEWQDGUW9IHHHMCMIEUUPXTCCGEHBNSRRTWUDYTQXTAPCPJFNMDTFHPOXCRMKCVYOHWIX')],\n",
       " [Address(b'FFEEEIGRIJWQPJNQMYGN9IRFIBNFDMBAHUELY9QYDCQQQHV9EPONXUFFXJECXAWVPXKRUCSNIN9EPDGSY'),\n",
       "  Address(b'MXTFNIQYXFJJIROQSQJNFSNBXCBOKXQGYTBGKUYSRATGRRJGYDRIYTGCYRJSULWVDRMOHWOHC9MXBCRFB'),\n",
       "  Address(b'EAVVRAGWEXVUFCBELNDUYMSYXJGMOREULMZCLWCDNLSYCHAVHPADXCGYCFPVSBZMNA9OGCPBPVNZUHKKB'),\n",
       "  Address(b'LNCEKZLEZBVEQXNVNLNEPVSLNFKETCODCIITGEIKFFEXUVRZZRDL9BPMT9AAHENCPIJ9CDXJWJGGELSM9'),\n",
       "  Address(b'CUKXXSZEJHNUH9CSCKSDALT9XZYPAMG9NVGHBNXTMPPMQYPVXAAKSQBHBTNDPEAOLANQIRXK9FPIMOZQY'),\n",
       "  Address(b'EEYAKAUIMLFAUPYHWUGZVWLCWHFGNKXIFBHQNFYJ9CARCOPEIUQKJIHYOBHUXVZJMTQKORJVDDIUMUNNX'),\n",
       "  Address(b'YR9I9JZYSFTYDAVRVYPR9RJ9RJZFMFVIUEBFUYISSFQIFHBMLYQNSFKQLCRYCHAYLONPJRGLCMLQSGNFC'),\n",
       "  Address(b'NIGGHSZIRMEQPCGRPWZXDSDJGU9ETRDLJIVXBTOLEEHDEDTHAGHA9BPHJMGAANK9LOFKMALTPLRXOPJXA')],\n",
       " [Address(b'HPAP9LNJWWSWOLCNWIDJRIQQPHYXZSGWMXVJCYNASY9OZKKLQVPKG9OLXLCEKNSQTCPDTVXCPYPWTMKXB'),\n",
       "  Address(b'XRFXBGTFUBVNHNFEFOEUDHMWVISINRSUGJGZKHWIAXCBPADRWXDUXRWYD9WQHVBWLPZKIKGDAZRHWUUIC'),\n",
       "  Address(b'LVLMAYDHMEKZE9JTWDXTAPVEAFLILXU9BHIFYNHDCWY9HDRWKAJFMQCFLYZRZKZWCFGMDLXPFUYIUXFAD'),\n",
       "  Address(b'MZ9NDUWCKRKAZWILWIGPNHC9ULVHEZKSSZKNTVIFEBKCIBMHKOWYFTYHEKHAUHPWOVNFIJSUE9ABPZUUW'),\n",
       "  Address(b'MLPPNG9SFZZKSTWYJFCSLNLTQMMWRCEYLAWHNVEZJRFIXJCJXOKEBL9QATVENABZILKVXCGDVUROVUCUX'),\n",
       "  Address(b'CDGNETPDWBRXSTMWLWGTMWZJDDZOIKTOAI9DTWYZCYAFX9CJBWTRADP9KEZJMSNNFFJZCAJVUDXNXHLHW'),\n",
       "  Address(b'KQSA9JILVBGVSDPPKWPXROCPDDLCLDCFTRYAVQWCXREGTCNQPCOIIYMOUARYLUZEUWVZPRSKJNYCXTMMW'),\n",
       "  Address(b'IRVBOTYESTKDMIPJOLIFAQIFFFFBBQ9KKSRTMNMQDYOYLPWNBGBVBHUVLENNEFJMQFFZ9VXKIX9G9EVAW')],\n",
       " [Address(b'XWNORLQTQUUSOBQUXKNBJIZQHKMDAJCT9BMZFPSLTLVZBWSBAWMZJDBDYFTVABFJC9LSLDFGENDNGUNEW'),\n",
       "  Address(b'MIUJ9YEZ9P9DZRPVUMFUOPZRRS9VWXPGCCHEMQWFIBKV9KNYLODWHLKJCHVTRBJ9AFNHFZSTPGJLQJGJW'),\n",
       "  Address(b'XJKFLJ9UBN9ERIKVZUAMRBSBLGDVEBQAQMAWSNYQYA9SCBLCXMAGLFOXFJGWJYYIG9MTSMTLGNUSBLNRA'),\n",
       "  Address(b'MDYFARV9KYVBJPYYRMMEODBFQRIZCFEYECNLZUXALAIDOTNHUJTPJDEPKGIGKCRCKMENIUUAYOPLEEKQW'),\n",
       "  Address(b'MXBQWVLG9DVH9QUTMWDXKIENIWA9FGDMTTFQT99EJMAPOOFJDAATMLJFAOBWJHFNXFEVWMTZHIVLWUDDZ'),\n",
       "  Address(b'JTCKMEWSBKPBZBOYUPODUOUYRQOUQAWPS9XKJI9AJOALJ9QOTSSUNXQHIGMWYVGDGZFYZTKFQFZYXONID'),\n",
       "  Address(b'CTCAVMPHFHPBBLBEOUOPAUTLWESJFNMFOFWFFASDWMHAZREXVHILZUR9KELMDPFMZTNKICTLCSDWCYHCY'),\n",
       "  Address(b'JSPLNP9BLIUTJQHUYPZBXZFOWALWUVRVKCYJXNQNCHIOWJRCEQAFMJMDSYTNDGGOBSFOHXXZQN9JEDVOW')]]"
      ]
     },
     "execution_count": 11,
     "metadata": {},
     "output_type": "execute_result"
    }
   ],
   "source": [
    "money_addresses_splits"
   ]
  },
  {
   "cell_type": "code",
   "execution_count": 12,
   "id": "caeedd4d-2e30-4186-b714-d9fa896bb24d",
   "metadata": {},
   "outputs": [],
   "source": [
    "agents = []\n",
    "for index in range(0, num_agents):\n",
    "    agents.append(Agent(np.array(demand.iloc[index]), \n",
    "                       np.array(supply.iloc[index]), \n",
    "                       index, publish_addresses, \n",
    "                       price_addresses_splits[index], \n",
    "                       money_addresses_splits[index], \n",
    "                       np.array(price.iloc[index])))"
   ]
  },
  {
   "cell_type": "code",
   "execution_count": 13,
   "id": "ac2aa593-4e24-440d-93d4-6c60a89c2131",
   "metadata": {},
   "outputs": [],
   "source": [
    "def build_address_dictionary(agents, publish_addresses):\n",
    "    agent_addresses = {}\n",
    "    agent_addresses['publish_address'] = publish_addresses\n",
    "    for index, agent in enumerate(agents):\n",
    "        agent_addresses[index] = {'price_address': agent.get_price_address(),\n",
    "                                  'money_address': agent.get_money_address()}\n",
    "    return agent_addresses"
   ]
  },
  {
   "cell_type": "code",
   "execution_count": 14,
   "id": "fe0959f5-a0a8-4660-b522-cb9b06d11afe",
   "metadata": {},
   "outputs": [],
   "source": [
    "def check_published_data(address):\n",
    "    transactions = api.find_transactions(addresses=[address,])\n",
    "\n",
    "    hashes = []\n",
    "    for txhash in transactions['hashes']:\n",
    "        hashes.append(txhash)\n",
    "        \n",
    "    trytes = api.get_trytes(hashes)['trytes']\n",
    "\n",
    "    parts = []\n",
    "    for trytestring in trytes:\n",
    "        tx = Transaction.from_tryte_string(trytestring)\n",
    "        parts.append((tx.current_index, tx.signature_message_fragment))\n",
    "\n",
    "    parts.sort(key=lambda x: x[0])\n",
    "\n",
    "    full_message = TryteString.from_unicode('')\n",
    "\n",
    "    node_data = []\n",
    "    for index, part in parts:\n",
    "#         pprint.pprint(json.loads(part.decode(errors='ignore')))8.299+8.299+8.299+8.154\n",
    "        node_data.append(json.loads(part.decode(errors='ignore')))\n",
    "\n",
    "    return node_data"
   ]
  },
  {
   "cell_type": "code",
   "execution_count": 15,
   "id": "bee89fef-4871-4bc3-a550-87c0fc979ae6",
   "metadata": {},
   "outputs": [],
   "source": [
    "def single_sided_auction(node_data):\n",
    "    node_vec = []\n",
    "    supply_vec = []\n",
    "    supply_price = []\n",
    "    demand = []\n",
    "    ED = 0\n",
    "    for node in node_data:\n",
    "        node_vec.append(node['node'])\n",
    "        supply_vec.append(node['supply'])\n",
    "        supply_price.append(node['price'])\n",
    "        demand.append(node['demand'])\n",
    "        ED += node['demand']\n",
    "    supply_df = pd.DataFrame(data = {'Agents': node_vec, 'Supply': supply_vec, 'Price': supply_price, 'Demand': demand})\n",
    "    supply_df = supply_df.sort_values(by='Price')\n",
    "    cum_supply = np.cumsum(supply_df['Supply'])\n",
    "    supply_df['Cumsum'] = cum_supply\n",
    "    for index, value in enumerate(supply_df.Cumsum):\n",
    "        if value >= ED:\n",
    "            break\n",
    "    return supply_df, ED, supply_df.iloc[index]['Price']"
   ]
  },
  {
   "cell_type": "code",
   "execution_count": 16,
   "id": "2629b522-235f-47ec-99b2-e9e57cbd28c1",
   "metadata": {},
   "outputs": [],
   "source": [
    "addresses_dict = build_address_dictionary(agents, publish_addresses)\n",
    "for agent in agents:\n",
    "    agent.assign_address_dict(addresses_dict)"
   ]
  },
  {
   "cell_type": "markdown",
   "id": "4980d598-8c56-47f4-bdad-91957d6676e7",
   "metadata": {},
   "source": [
    "### Microgrid creation"
   ]
  },
  {
   "cell_type": "code",
   "execution_count": 17,
   "id": "54b5cfcb-47ba-4fb4-93f7-d9ca7b042518",
   "metadata": {},
   "outputs": [],
   "source": [
    "def micro_grid_exec(step):\n",
    "    net = pp.create_empty_network()\n",
    "    min_pu = 0.95\n",
    "    max_pu = 1.05\n",
    "\n",
    "    bus = []\n",
    "    for index in range(len(agents)):\n",
    "        bus.append(pp.create_bus(net, vn_kv=110, min_vm_pu=min_pu, max_vm_pu=max_pu))\n",
    "\n",
    "    # bus0 = pp.create_bus(net, vn_kv=110, min_vm_pu=min_pu, max_vm_pu=max_pu)\n",
    "    # bus1 = pp.create_bus(net, vn_kv=110, min_vm_pu=min_pu, max_vm_pu=max_pu)\n",
    "    # bus2 = pp.create_bus(net, vn_kv=110, min_vm_pu=min_pu, max_vm_pu=max_pu)\n",
    "    # bus3 = pp.create_bus(net, vn_kv=110, min_vm_pu=min_pu, max_vm_pu=max_pu)\n",
    "    # bus4 = pp.create_bus(net, vn_kv=110, min_vm_pu=min_pu, max_vm_pu=max_pu)\n",
    "    # bus5 = pp.create_bus(net, vn_kv=110, min_vm_pu=min_pu, max_vm_pu=max_pu)\n",
    "\n",
    "    lines = []\n",
    "    for index in range(len(agents)):\n",
    "        if index < len(agents) - 1:\n",
    "            lines.append(pp.create_line(net, bus[index], bus[index+1], length_km=1, std_type='149-AL1/24-ST1A 110.0'))\n",
    "        else:\n",
    "            lines.append(pp.create_line(net, bus[index], bus[0], length_km=1, std_type='149-AL1/24-ST1A 110.0'))\n",
    "\n",
    "    # line1 = pp.create_line(net, bus0, bus1, length_km=1, std_type='149-AL1/24-ST1A 110.0')\n",
    "    # line2 = pp.create_line(net, bus1, bus2, length_km=1, std_type='149-AL1/24-ST1A 110.0')\n",
    "    # line3 = pp.create_line(net, bus2, bus3, length_km=1, std_type='149-AL1/24-ST1A 110.0')\n",
    "    # line4 = pp.create_line(net, bus3, bus4, length_km=1, std_type='149-AL1/24-ST1A 110.0')\n",
    "    # line5 = pp.create_line(net, bus4, bus5, length_km=1, std_type='149-AL1/24-ST1A 110.0')\n",
    "    # line6 = pp.create_line(net, bus5, bus0, length_km=1, std_type='149-AL1/24-ST1A 110.0')\n",
    "\n",
    "    for index in range(len(agents)):\n",
    "        pp.create_load(net, bus[index], p_mw=supply_df['Demand'][index])\n",
    "\n",
    "    # pp.create_load(net, bus0, p_mw=supply_df['Demand'][0])\n",
    "    # pp.create_load(net, bus1, p_mw=supply_df['Demand'][1])\n",
    "    # pp.create_load(net, bus2, p_mw=supply_df['Demand'][2])\n",
    "    # pp.create_load(net, bus3, p_mw=supply_df['Demand'][3])\n",
    "    # pp.create_load(net, bus4, p_mw=supply_df['Demand'][4])\n",
    "    # pp.create_load(net, bus5, p_mw=supply_df['Demand'][5])\n",
    "\n",
    "    gens = []\n",
    "    for index in range(len(agents)):\n",
    "        if supply.iloc[index][step + 1] != 0:\n",
    "            pp.create_gen(net, bus[index], p_mw=np.array(supply[step + 1])[index], min_p_mw=0, max_p_mw=np.array(supply[step + 1])[index], controllable=True, slack=True)\n",
    "            \n",
    "    pp.runpp(net)\n",
    "    pf_result = net.res_gen\n",
    "    \n",
    "    return pf_result"
   ]
  },
  {
   "cell_type": "code",
   "execution_count": 18,
   "id": "44370f1e-aa8c-4486-bdff-a3f23d4c57ff",
   "metadata": {},
   "outputs": [],
   "source": [
    "nodes = [0,1,2,3,4,5]"
   ]
  },
  {
   "cell_type": "code",
   "execution_count": 19,
   "id": "1ac0538d-142f-4286-b340-f04d092c1443",
   "metadata": {},
   "outputs": [],
   "source": [
    "def payment_setup(step, price):\n",
    "    power_per_agent = []\n",
    "    for agent in agents:\n",
    "        agent.get_node()\n",
    "        demand = agent.demand[0]\n",
    "        try:\n",
    "            supply = gen_dict[agent.get_node()]\n",
    "        except:\n",
    "            supply = agent.get_supply()[0]\n",
    "        to_app = supply - demand\n",
    "        if abs(to_app) < 0.00001:\n",
    "            to_app = 0\n",
    "        power_per_agent.append(to_app)\n",
    "    to_earn = {}\n",
    "    to_pay = {}\n",
    "    for index, payment in enumerate(power_per_agent):\n",
    "        if payment < 0:\n",
    "            to_pay[index] = abs(payment)\n",
    "        else:\n",
    "            to_earn[index] = payment\n",
    "    \n",
    "    payment_info = {}\n",
    "    for payer, balance in to_pay.items():\n",
    "        payment_info[payer] = {'node': [], 'total': []}\n",
    "        for earner, gain in to_earn.items():\n",
    "            if gain > 0:\n",
    "                if balance >= gain:\n",
    "                    payment_info[payer]['node'].append(earner)\n",
    "                    payment_info[payer]['total'].append(gain)\n",
    "                    to_pay[payer] = to_pay[payer] - gain\n",
    "                    to_earn[earner] = to_earn[earner] - gain\n",
    "                elif balance < gain:\n",
    "                    payment_info[payer]['node'].append(earner)\n",
    "                    payment_info[payer]['total'].append(balance)\n",
    "                    to_pay[payer] = to_pay[payer] - balance\n",
    "                    to_earn[earner] = to_earn[earner] - balance\n",
    "                    break\n",
    "    gather_data = {}\n",
    "    for index, agent in enumerate(agents):\n",
    "        info_dict = {}\n",
    "        info_dict['price'] = price\n",
    "        try:\n",
    "            info_dict['node'] = payment_info[index]['node']\n",
    "            info_dict['power'] = payment_info[index]['total']\n",
    "        except:\n",
    "            pass\n",
    "        gather_data[index] = info_dict\n",
    "    print(power_per_agent)\n",
    "    for index, agent in enumerate(agents):\n",
    "        address = addresses_dict[index]['price_address'][step]\n",
    "        data = gather_data[index]\n",
    "        tx = ProposedTransaction(address=Address(address), message=TryteString.from_unicode(json.dumps(data)), tag=Tag('PRICE'),value=0)\n",
    "\n",
    "        tx = api.prepare_transfer(transfers=[tx])\n",
    "\n",
    "        result = api.send_trytes(tx['trytes'], depth=3, min_weight_magnitude=9)\n",
    "    pay_nodes = set(nodes) - set(gen_nodes)\n",
    "    for node in pay_nodes:\n",
    "        agents[node].pay_power(step)"
   ]
  },
  {
   "cell_type": "code",
   "execution_count": 20,
   "id": "07a1aec2-29ef-436e-a94f-dd69d5f71658",
   "metadata": {},
   "outputs": [
    {
     "name": "stdout",
     "output_type": "stream",
     "text": [
      "        p_mw    q_mvar  va_degree  vm_pu\n",
      "0  66.606912 -0.028525        0.0    1.0\n",
      "1  66.633954 -0.028345        0.0    1.0\n",
      "2  33.153193 -0.033262        0.0    1.0\n",
      "3  33.418820 -0.033262        0.0    1.0\n",
      "[33.451821884045785, -33.3149762, -33.67162466, 33.5707898074361, 0, 0]\n",
      "        p_mw    q_mvar  va_degree  vm_pu\n",
      "0  68.941409 -0.026177        0.0    1.0\n",
      "1  69.518564 -0.025851        0.0    1.0\n",
      "2  34.631666 -0.033262        0.0    1.0\n",
      "3  34.445791 -0.033262        0.0    1.0\n",
      "[35.786318560254216, -33.3149762, -33.67162466, 36.45540003884993, 1.4784734000000057, 1.02697079]\n",
      "        p_mw    q_mvar  va_degree  vm_pu\n",
      "0  70.981153 -0.023917        0.0    1.0\n",
      "1  70.539936 -0.023961        0.0    1.0\n",
      "2  35.045856 -0.033262        0.0    1.0\n",
      "3  35.269981 -0.033262        0.0    1.0\n",
      "[37.82606249346547, -33.3149762, -33.67162466, 37.4767719742902, 1.8926630699999905, 1.8511615600000013]\n",
      "        p_mw    q_mvar  va_degree  vm_pu\n",
      "0  65.036181 -0.031146        0.0    1.0\n",
      "1  64.663319 -0.031129        0.0    1.0\n",
      "2  32.949027 -0.033262        0.0    1.0\n",
      "3  32.028186 -0.033262        0.0    1.0\n",
      "[31.881091079688574, -33.3149762, -33.67162466, 31.600155282649936, -0.2041652399999876, -1.3906337899999883]\n",
      "        p_mw    q_mvar  va_degree  vm_pu\n",
      "0  62.481084 -0.033299        0.0    1.0\n",
      "1  63.000230 -0.033460        0.0    1.0\n",
      "2  31.735561 -0.033262        0.0    1.0\n",
      "3  31.853297 -0.033262        0.0    1.0\n",
      "[29.325993733845642, -33.3149762, -33.67162466, 29.9370658220423, -1.4176319700000093, -1.5655223300000003]\n",
      "        p_mw    q_mvar  va_degree  vm_pu\n",
      "0  60.466343 -0.035396        0.0    1.0\n",
      "1  61.238073 -0.035356        0.0    1.0\n",
      "2  30.822902 -0.033262        0.0    1.0\n",
      "3  30.705663 -0.033262        0.0    1.0\n",
      "[27.311252640201594, -33.3149762, -33.67162466, 28.174908428101602, -2.330290909999995, -2.7131569799999866]\n",
      "        p_mw    q_mvar  va_degree  vm_pu\n",
      "0  62.897453 -0.032638        0.0    1.0\n",
      "1  63.325673 -0.032406        0.0    1.0\n",
      "2  31.895472 -0.033262        0.0    1.0\n",
      "3  31.530618 -0.033262        0.0    1.0\n",
      "[29.742362884686372, -33.3149762, -33.67162466, 30.262509145591437, -1.2577202899999875, -1.8882018200000132]\n",
      "        p_mw    q_mvar  va_degree  vm_pu\n",
      "0  65.122582 -0.030160        0.0    1.0\n",
      "1  65.488346 -0.030011        0.0    1.0\n",
      "2  32.541016 -0.033262        0.0    1.0\n",
      "3  32.721235 -0.033262        0.0    1.0\n",
      "[31.967492404519703, -33.3149762, -33.67162466, 32.425181593351624, -0.6121767299999945, -0.6975842999999955]\n"
     ]
    }
   ],
   "source": [
    "for step in range(steps):\n",
    "    for index, agent in enumerate(agents):\n",
    "        agent.publish_energy_info(step)\n",
    "    node_data = check_published_data(publish_addresses[step])\n",
    "    supply_df, ED, auction_price = single_sided_auction(node_data)\n",
    "    pf_result = micro_grid_exec(step)\n",
    "    supply_df.set_index('Agents', inplace=True)\n",
    "    gen_values = pf_result['p_mw']\n",
    "    gen_dict = dict(zip(gen_nodes, gen_values))\n",
    "    print(pf_result)\n",
    "    total_demand = sum(supply_df['Demand'])\n",
    "    total_supply = sum(gen_dict.values())\n",
    "    losses = total_supply - total_demand\n",
    "    payment_setup(step, auction_price)"
   ]
  },
  {
   "cell_type": "code",
   "execution_count": 21,
   "id": "1a2fe5c0-3d63-4c64-bd2b-1488cb82e480",
   "metadata": {},
   "outputs": [
    {
     "name": "stdout",
     "output_type": "stream",
     "text": [
      "[{'price': 13.05591215}]\n",
      "[{'price': 13.05591215, 'node': [0], 'power': [33.3149762]}]\n",
      "[{'price': 13.05591215, 'node': [0, 3], 'power': [0.13684568404578812, 33.5707898074361]}]\n",
      "[{'price': 13.05591215}]\n",
      "[{'price': 13.05591215}]\n",
      "[{'price': 13.05591215}]\n"
     ]
    }
   ],
   "source": [
    "step = 0\n",
    "for agent in agents:\n",
    "    print(agent.check_address(step, 'price'))"
   ]
  },
  {
   "cell_type": "code",
   "execution_count": 22,
   "id": "7f2d7760-067c-4e9d-9a88-420914aeeb67",
   "metadata": {},
   "outputs": [
    {
     "name": "stdout",
     "output_type": "stream",
     "text": [
      "[{'payment': 434.9574025465408}, {'payment': 1.7866452290084662}]\n",
      "[{'payment': 438.29728253200113}]\n"
     ]
    }
   ],
   "source": [
    "step = 0\n",
    "print(agents[0].check_address(step, 'money'))\n",
    "print(agents[3].check_address(step, 'money'))"
   ]
  },
  {
   "cell_type": "code",
   "execution_count": 23,
   "id": "f676ccbc-7b7b-47ee-bf42-82376fda9c0f",
   "metadata": {},
   "outputs": [
    {
     "data": {
      "text/plain": [
       "{0: 65.1225824945197,\n",
       " 3: 65.48834579335163,\n",
       " 4: 32.541015990000005,\n",
       " 5: 32.72123546}"
      ]
     },
     "execution_count": 23,
     "metadata": {},
     "output_type": "execute_result"
    }
   ],
   "source": [
    "gen_dict"
   ]
  },
  {
   "cell_type": "code",
   "execution_count": 24,
   "id": "f5a4633f-283f-4ca9-adfa-f3a634f4e852",
   "metadata": {},
   "outputs": [],
   "source": [
    "vec = []\n",
    "for step in range(8):\n",
    "    vec.append(agents[0].check_address(step, 'price')[0]['price'])"
   ]
  },
  {
   "cell_type": "code",
   "execution_count": 46,
   "id": "12fb5377-ee58-4e62-9596-f65bff21f961",
   "metadata": {},
   "outputs": [
    {
     "data": {
      "image/png": "[encoded data removed]",
      "text/plain": [
       "<Figure size 504x288 with 1 Axes>"
      ]
     },
     "metadata": {
      "needs_background": "light"
     },
     "output_type": "display_data"
    }
   ],
   "source": [
    "import matplotlib.pyplot as plt\n",
    "plt.figure(figsize=(7,4))\n",
    "plt.plot(vec)\n",
    "plt.xlabel('Step', fontsize=10)\n",
    "plt.ylabel('Price (COP $)', fontsize=10)\n",
    "plt.title('Price behaviour over steps', fontsize=18)\n",
    "plt.savefig('./results/price_behaviour.png')"
   ]
  },
  {
   "cell_type": "code",
   "execution_count": 48,
   "id": "5dc34dfc-1b8b-4142-bb87-ff8f643185ff",
   "metadata": {},
   "outputs": [
    {
     "data": {
      "image/png": "[encoded data removed]",
      "text/plain": [
       "<Figure size 504x288 with 1 Axes>"
      ]
     },
     "metadata": {
      "needs_background": "light"
     },
     "output_type": "display_data"
    }
   ],
   "source": [
    "demand.sum(axis=0).plot(figsize=(7,4))\n",
    "plt.title('Total consumption per step', fontsize=18)\n",
    "plt.xlabel('Step', fontsize=10)\n",
    "plt.ylabel('Consumption (Wh)', fontsize=10)\n",
    "plt.savefig('./results/comsumption.png')"
   ]
  },
  {
   "cell_type": "code",
   "execution_count": 49,
   "id": "98fb046c-9de1-4dc0-8451-82603ca603d3",
   "metadata": {},
   "outputs": [
    {
     "data": {
      "image/png": "[encoded data removed]",
      "text/plain": [
       "<Figure size 504x288 with 1 Axes>"
      ]
     },
     "metadata": {
      "needs_background": "light"
     },
     "output_type": "display_data"
    }
   ],
   "source": [
    "supply.sum(axis=0).plot(figsize=(7,4))\n",
    "plt.title('Total generation per step', fontsize=18)\n",
    "plt.xlabel('Step', fontsize=10)\n",
    "plt.ylabel('Generation (Wh)', fontsize=10)\n",
    "plt.savefig('./results/generation.png')"
   ]
  },
  {
   "cell_type": "code",
   "execution_count": null,
   "id": "ab78a07b-02eb-4255-ba79-dc7a5ad7be88",
   "metadata": {},
   "outputs": [],
   "source": []
  }
 ],
 "metadata": {
  "kernelspec": {
   "display_name": "microgrid_venv",
   "language": "python",
   "name": "microgrid_venv"
  },
  "language_info": {
   "codemirror_mode": {
    "name": "ipython",
    "version": 3
   },
   "file_extension": ".py",
   "mimetype": "text/x-python",
   "name": "python",
   "nbconvert_exporter": "python",
   "pygments_lexer": "ipython3",
   "version": "3.6.9"
  }
 },
 "nbformat": 4,
 "nbformat_minor": 5
}
