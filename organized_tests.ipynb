{
 "cells": [
  {
   "cell_type": "markdown",
   "id": "2484adc1-9a2e-4d6c-842e-9458eff1dc8c",
   "metadata": {},
   "source": [
    "# IOTA + microgrid tests"
   ]
  },
  {
   "cell_type": "code",
   "execution_count": 1,
   "id": "3d6706e9-407f-4901-8733-7b2572441e50",
   "metadata": {},
   "outputs": [],
   "source": [
    "from iota import ProposedTransaction, Address, Tag, TryteString, Iota, Transaction\n",
    "from iota.crypto.types import Seed\n",
    "import json\n",
    "import pandapower as pp\n",
    "import numpy as np\n",
    "from numpy.random import rand\n",
    "import pandas as pd\n",
    "import os\n",
    "import pprint"
   ]
  },
  {
   "cell_type": "markdown",
   "id": "a34efc03-6f6d-4240-9dcd-ec74a0eb3915",
   "metadata": {},
   "source": [
    "### General parameters"
   ]
  },
  {
   "cell_type": "code",
   "execution_count": 2,
   "id": "7619818f-a360-42f6-9e4c-a52887d1b877",
   "metadata": {},
   "outputs": [],
   "source": [
    "demand_file_path = os.path.join('data', 'demand.csv')\n",
    "price_file_path = os.path.join('data', 'price.csv')\n",
    "supply_file_path = os.path.join('data', 'supply.csv')"
   ]
  },
  {
   "cell_type": "markdown",
   "id": "738187d7-6d7b-48d0-a2e8-197320b71f72",
   "metadata": {},
   "source": [
    "### IOTA seed creation"
   ]
  },
  {
   "cell_type": "code",
   "execution_count": 3,
   "id": "35602307-e9c2-46f7-8975-7499a91fdff3",
   "metadata": {},
   "outputs": [],
   "source": [
    "demand = pd.read_csv(demand_file_path, index_col=0, header=None)\n",
    "supply = pd.read_csv(supply_file_path, index_col=0, header=None)\n",
    "price = pd.read_csv(price_file_path, index_col=0, header=None)\n",
    "num_agents = demand.shape[0]\n",
    "num_household = demand.shape[0]\n",
    "steps = demand.shape[1]"
   ]
  },
  {
   "cell_type": "code",
   "execution_count": 4,
   "id": "cd1b6384-987d-45a4-8d24-a1b2e5aea851",
   "metadata": {},
   "outputs": [],
   "source": [
    "supply\n",
    "a_series = (supply != 0).any(axis=1)\n",
    "new_df = supply.loc[a_series]"
   ]
  },
  {
   "cell_type": "code",
   "execution_count": 5,
   "id": "4e3ca817-6464-4041-ae0f-acea2ca1dc25",
   "metadata": {},
   "outputs": [],
   "source": [
    "gen_nodes = np.array(new_df.index)"
   ]
  },
  {
   "cell_type": "code",
   "execution_count": 6,
   "id": "a2a92895-47d7-4c2c-9db6-48cccc6d01a3",
   "metadata": {},
   "outputs": [],
   "source": [
    "my_seed = Seed.random()\n",
    "api = Iota('https://nodes.devnet.iota.org:443')\n",
    "total_addresses = steps * (2 * num_agents + 1)\n",
    "addresses = api.get_new_addresses(count=total_addresses)['addresses']"
   ]
  },
  {
   "cell_type": "markdown",
   "id": "df07db8c-cdca-4cdb-ac63-113a4edcee6d",
   "metadata": {},
   "source": [
    "### Address generation"
   ]
  },
  {
   "cell_type": "code",
   "execution_count": 7,
   "id": "575ac8c6-3236-43f8-83ff-91591a8ca77b",
   "metadata": {},
   "outputs": [],
   "source": [
    "price_addresses_splits = []\n",
    "money_addresses_splits = []\n",
    "addresses1 = addresses[num_agents*steps:]\n",
    "addresses2 = addresses[:num_agents*steps]\n",
    "for agent in range(0, num_agents):\n",
    "    price_addresses_splits.append(addresses1[agent*steps:agent*steps+steps])\n",
    "    money_addresses_splits.append(addresses2[agent*steps:agent*steps+steps])\n",
    "publish_addresses = addresses1[-steps:]"
   ]
  },
  {
   "cell_type": "code",
   "execution_count": 8,
   "id": "87e892c3-a31f-4c87-a632-2a4a63b36869",
   "metadata": {},
   "outputs": [
    {
     "data": {
      "text/plain": [
       "104"
      ]
     },
     "execution_count": 8,
     "metadata": {},
     "output_type": "execute_result"
    }
   ],
   "source": [
    "len(addresses)"
   ]
  },
  {
   "cell_type": "code",
   "execution_count": 9,
   "id": "b00477eb-f97c-49ec-b7f6-288c20ed998e",
   "metadata": {},
   "outputs": [],
   "source": [
    "# Agent class definition\n",
    "\n",
    "class Agent:\n",
    "    def __init__(self, demand, supply, node, publish_address, price_address, money_address, price):\n",
    "        \"\"\" Initialize agent instance.\n",
    "        \n",
    "        Args: price\n",
    "            demand (list): list of floats with demand data\n",
    "            supply (list): list of floats with supply. Ceros if no supply.\n",
    "            node (float): number of the node.\n",
    "            publish_address (list): list of iota.types.Address with the publish address.\n",
    "            price_address (list): list of node's price addresses.\n",
    "            money_address (list): list of node's money addresses.\n",
    "            price (list): list of prices for supply offers.\n",
    "        \"\"\"\n",
    "        self.demand = demand\n",
    "        self.supply = supply\n",
    "        self.node = node\n",
    "        self.publish_address = publish_address\n",
    "        self.price_address = price_address\n",
    "        self.money_address = money_address\n",
    "        self.consumption = demand-supply\n",
    "        self.price = price\n",
    "    \n",
    "    def publish_info(self, data, address):\n",
    "        \"\"\" Send transaction with data to specified address\n",
    "        \n",
    "        Args:\n",
    "            data (dict): information to be sent.\n",
    "            address (iota.types.Address): Destination address for information\n",
    "        \"\"\"\n",
    "        # Build TX object\n",
    "        tx = ProposedTransaction(\n",
    "            address = Address(address),\n",
    "            message = TryteString.from_unicode(json.dumps(data)),\n",
    "            tag = Tag('INFO'),\n",
    "            value = 0)\n",
    "        # Send information\n",
    "        tx = api.prepare_transfer(transfers=[tx])\n",
    "        result = api.send_trytes(tx['trytes'], depth=3, min_weight_magnitude=9)\n",
    "        return result\n",
    "    \n",
    "    def pay_power(self, step):\n",
    "        \"\"\" Send power payment\n",
    "        \n",
    "        Args:\n",
    "            step (float): step running at the moment.\n",
    "        \"\"\"\n",
    "        unpack_data = self.check_address(step, 'price')\n",
    "        for index, node in enumerate(unpack_data[0]['node']):\n",
    "            data_to_send = {'payment': unpack_data[0]['price']*unpack_data[0]['power'][index]}\n",
    "            address = self.address_dict[node]['money_address'][step]\n",
    "            self.publish_info(data_to_send, address)\n",
    "        \n",
    "    def publish_energy_info(self, step):\n",
    "        \"\"\" Build and send energy information\n",
    "        \n",
    "        Args:\n",
    "            step (float): Step running at the moment.\n",
    "        \"\"\"\n",
    "        data = {'node': self.node,\n",
    "                'demand': self.demand[step],\n",
    "                'supply': self.supply[step],\n",
    "                'consumption': self.consumption[step],\n",
    "                'price': self.price[step]}\n",
    "        address = self.publish_address[step]\n",
    "        self.publish_info(data, address)\n",
    "        return data\n",
    "    \n",
    "    def check_address(self, step, address_type):\n",
    "        \"\"\" Recover information from address.\n",
    "        \n",
    "        Args:\n",
    "            step (float): Step running at the moment.\n",
    "            address_type (str): Vector code to look for the address\n",
    "        \"\"\"\n",
    "        \n",
    "        if address_type == 'price':\n",
    "            address = self.price_address[step]\n",
    "        elif address_type == 'money':\n",
    "            address = self.money_address[step]\n",
    "        \n",
    "        transactions = api.find_transactions(addresses=[address,])\n",
    "\n",
    "        hashes = []\n",
    "        for txhash in transactions['hashes']:\n",
    "            hashes.append(txhash)\n",
    "\n",
    "        trytes = api.get_trytes(hashes)['trytes']\n",
    "\n",
    "        parts = []\n",
    "        for trytestring in trytes:\n",
    "            tx = Transaction.from_tryte_string(trytestring)\n",
    "            parts.append((tx.current_index, tx.signature_message_fragment))\n",
    "\n",
    "        parts.sort(key=lambda x: x[0])\n",
    "\n",
    "        full_message = TryteString.from_unicode('')\n",
    "\n",
    "        retrieved_data = []\n",
    "        for index, part in parts:\n",
    "            retrieved_data.append(json.loads(part.decode(errors='ignore')))\n",
    "        return retrieved_data\n",
    "    \n",
    "    def get_demand(self):\n",
    "        # Visualize demand\n",
    "        return self.demand\n",
    "    \n",
    "    def get_supply(self):\n",
    "        # Visualize supply\n",
    "        return self.supply\n",
    "    \n",
    "    def get_node(self):\n",
    "        # Visualize node\n",
    "        return self.node\n",
    "    \n",
    "    def get_price_address(self):\n",
    "        # Visualize price address\n",
    "        return self.price_address\n",
    "    \n",
    "    def get_money_address(self):\n",
    "        # Visualize money address\n",
    "        return self.money_address\n",
    "    \n",
    "    def get_consumption(self):\n",
    "        # Visualize consumption\n",
    "        return self.consumption\n",
    "    \n",
    "    def get_prices(self):\n",
    "        # Visualize price\n",
    "        return self.price\n",
    "    \n",
    "    def assign_address_dict(self, address_dict):\n",
    "        \"\"\" Assign address dict to node\n",
    "        \n",
    "        Args:\n",
    "            address_dict (dict): With known addresses for each node (price and money) and publish addresses\n",
    "        \"\"\"\n",
    "        self.address_dict = address_dict"
   ]
  },
  {
   "cell_type": "markdown",
   "id": "aa9a1ad0-a327-40e4-8476-c2dc9a8aee9b",
   "metadata": {},
   "source": [
    "### Agent creation"
   ]
  },
  {
   "cell_type": "code",
   "execution_count": 10,
   "id": "78da33fd-d920-4e51-ba86-44d62c44ac8c",
   "metadata": {},
   "outputs": [],
   "source": [
    "demand = pd.read_csv(demand_file_path, header=None, index_col=0)\n",
    "supply = pd.read_csv(supply_file_path, header=None, index_col=0)\n",
    "price = pd.read_csv(price_file_path, header=None, index_col=0)\n",
    "num_agents = demand.shape[0]\n",
    "num_household = demand.shape[0]\n",
    "steps = demand.shape[1]"
   ]
  },
  {
   "cell_type": "code",
   "execution_count": 11,
   "id": "9a70a719-7709-473f-9bd8-a46931616b21",
   "metadata": {},
   "outputs": [
    {
     "data": {
      "text/plain": [
       "[[Address(b'XPIGM9WVTUTMHGGZLEONDFIJXMCDXFOWDQZGSBUHPO9PWYIPMRCSRXEFXHASBJNPCINMIAMIRNZTNECUB'),\n",
       "  Address(b'FPBHUMQHQGSPBTEBWMQVAOYEKQOMB9NXBNTZCULSQQWBVIDKZQCTEKBUXRLCAOLQ9UKBVAPNLYSFECFVA'),\n",
       "  Address(b'YFHLRZLJGNIPNJLFQ9AFGJUNHECSRLDN9BGGBWABEIG9IUWQYD9WVFJBIGG99UCVRUTBOJG9USGHVXTF9'),\n",
       "  Address(b'UUOIGWELUSXVGIDEGSZKWKZUNDSGEWKWFKRBKLERVKOAKJDQSVFZQIAPRFQPHIKGNY99XVGRBOZKEGADW'),\n",
       "  Address(b'OSIAGADXZTRWIGZZPPEROCJLATPLPO9DVJWRKDTGBMBGKKBZXSTADANOLUNLMUIPZOCI9UROFTUYRBQJX'),\n",
       "  Address(b'S9FDITMXPCHFSAKABFFXXSOOFYJTHIZRMNH9KQGUOCM9T9VHCR9UKRILOBOFKCWSU9XBRZGOGUSKIUCCC'),\n",
       "  Address(b'OBQDJCKBD9CCZNYWOKNBVQEOMWJEEPDTKGAO9EVJOKLFNGI9JPGUYUHEQDMAKXKLMGFZLJBWXMMDHOGMC'),\n",
       "  Address(b'LVVYDI9XWTTQARGSSMUCNLIO9KQWSWEVUFKEMCFEMSL9ILUGTMMTMQHAVHKHJRRDBYKZ9HVKCDSTYCTYA')],\n",
       " [Address(b'BFUFYGIXTZDDZVJYANDNNZVOJPBICGBQUFBNWQXJPMLZLGMMKBVXOCYEOLAWLXENSG9PUGLITMBESBNCW'),\n",
       "  Address(b'XKBYZDBSDLBYHIQRPMDAZYCBPAC9YI9IXJC9XWOSWJGKSTVLSDV9CFYMV9OVJNSCKQGDKQWAS9FAQZSZZ'),\n",
       "  Address(b'NYVPSJTNMJKOYFIOBXFTOZYHKVCUVCCLLMJTZGNGXKHTF9ZCVFGWFKBKSLMNIYYALNPL9CRXLKBVZYGJC'),\n",
       "  Address(b'DWRXOHSE9QTPPFW9FDNK9KMRRTKUKSOVHKEQFJWV9POLRGGAKWCE9BIV9KOSRAQVRPBCZBFOCZLWCAEBC'),\n",
       "  Address(b'QVQGAKRLBPEAJQZYENRAAKBTRCEHWKOCPCCPW9UYDLVWUPNBUJIKCPXKVTGRMJXARECIJM9DRFALOOOVY'),\n",
       "  Address(b'JUS9BFOBSZXFUQHGNPI9ETLQTMAKUHE9NWFISSXGPVGNLTERGOVDHDBMXFJM9CRSSYS9SRRQWWQRMXDYB'),\n",
       "  Address(b'CKSLDRTENLU9TGXOQTXSPBUFMCYHFWLJMETVALUCRBIMTJPUGNCLDZCTKDVSJEHVXWVESQDKDEAGWTWIW'),\n",
       "  Address(b'PNQH9GMKUVUPNVUGDMQHW9ZQMVZINOKDPYHRNBQFBEWUDNEDHR9LDFOJWMFQ9UBFLBEOCZKIBUOQABXSW')],\n",
       " [Address(b'HRCQQLAIXBIEHL9OVGBGFCFPCM9NYNIXPZEJMESYXELFYDGKGIUR9KNGHMYPUEZDGJOQCRWHYGXFVUNLD'),\n",
       "  Address(b'UBWDSSYZFZPRRMZDOVCNLHZILITQQMTKGSQHTJKOKXIQEFXQTKJQBBIHIQJNWWIMEIHEWMSNTHFBBSUZZ'),\n",
       "  Address(b'WSQGSPEMJYUHRNKGNFZQJSADBADU9RNUJF9AZABFFBIFR9LBH99VEFZQYQARZNNLRMVBBQQHRFPGVGMRA'),\n",
       "  Address(b'TEZJICXPHRDJETDXQXSRH9PTFMPNMGVVRLPPCGVFJ9G9EOSMTYZNOVMIQXHUCTGABTTENPIHLCFZKVSYW'),\n",
       "  Address(b'JQRQPSZTFSIQDSXBHJKB9FPYHZMFGBTEGYRSRXMZENMCYLHJEMGESKWDDQKSRTPWHQKJIIQUTIWXIVBGW'),\n",
       "  Address(b'DOAKCWKNAFEEMRXQOMJQZJHTEURACOTUXTKOYYNMXVDQUGXAJVYIUTEDKULLXUH9RCQC9QCFRJYUPEYWB'),\n",
       "  Address(b'GTJJSZWXWMUFZPXCONMVDLLAMPDVETTLOMUF9NKTMLGWGQHNEJHJS9AHNBFJPP9ZIOPONEGSGXNRSPKGD'),\n",
       "  Address(b'Q99BXLVKMSSEQWFCAPAGKSLXSJJNZPLLREBAZTKYOEJUWBEBWHPSJZONQQWATFSJLRHVJVBIGBMVDISGX')],\n",
       " [Address(b'UUCAVQUDXURILJ9KHGVTEXDFVAWOKDCRADBXUXZBAIIVHOGLFBBLOBYQAMJTLOOWKMKRXHFSDEWQWT9GX'),\n",
       "  Address(b'GUNDSC9XXUJXSPUR9UYIV9KFLQSEJOODRLGSAVGVIAVIFLAHESTZU9AL9AEN9JTAHK9N9MAQEKKQCREZX'),\n",
       "  Address(b'LZIDHLRNGQQOAZCPPOFAXUFVSF9N9IA9NHUMEDWNABAGWGSFTNHIUVVKJOBHACVSTZOCXZDSVEEF9ZBGY'),\n",
       "  Address(b'QYT9WZQPHWVGVTGKJWSR9UWWUGNYAWRBSLUGPSTYIOLDIXVWXUMECYAPGAYFLEBDOOACEIBVQOFPLFXTD'),\n",
       "  Address(b'DPNAHQYZUQODMPQIYHOLURQKXHFBEXJMPJHPBIUYOFZBQKIMLGOHTHVHRHEFVG9FXLGONPEZKYVWQMGBY'),\n",
       "  Address(b'BGBEUVMNJTHDYIATFOAUGHEWHYYRNHFFKEKGRYQWTNNUWYCUPEJSYKVK9ZMUWLQZPAFSWHNFWVGFMFZSB'),\n",
       "  Address(b'DKQKZRNSNGCZLZLJMBJMMMTGNTAFYSR9NHKRHSAPDQRPJNVTAPUVGLEVWOEHDARAFFQMFNSLLEOJYNPXX'),\n",
       "  Address(b'ZEQFDULPFXZLSJLQZBV9KKWDVZMGEUEDZ9TTHKSKUTAKCWZSTOCWX99DMILYAWNOPGJIKLOWDDCSXEIGY')],\n",
       " [Address(b'KH9TRLTZ9EZBLOYIZMIXCNFTHDOTETVYVYBQQVKCGYQSAUDXZMLQVEG9VFUH9ZLLYFHXJVQCEKDOIIXMZ'),\n",
       "  Address(b'QTTLXHNGXMCWIDSBW9J9CYDLNYQVCNAIDH9SAJSLLPFMOGAGWRZBZXFNWBEFKJJUUOEKXWTYDTVPMZECW'),\n",
       "  Address(b'JGYFJ9IYIEITCGRKRJNYHGFLEGWUUMONNXHLIYXBSWBUVCUBKND9XVUDPFNKPI9BFIKMHBTNHKZQXJCWD'),\n",
       "  Address(b'LIIJOADSQUUTHTVCPWEZLIFMCDGGFQKYVPGSAQVMDRYRNAEIJYJFN9BASBNEWQIGIOMTSCLZSCSEAKHWY'),\n",
       "  Address(b'Q9HEZJQZCSVKMMDNBAPCKFNDLKREKEJFWOZFKHPFTRVIHETLY9YDQLWNDJVVIXYGTNILRZTOWMNHMWCXD'),\n",
       "  Address(b'HJHOSJFZNVHUXQ9BUPKEYEBVYF9OOFYDXTGYSXO9KEAVHIPGRZ9OOWIUWVCSTAAFLVOQQMT9QZAUFZVHD'),\n",
       "  Address(b'EQYOWMVRBNOADMXJNAJXCKYEL9TAXYARPUWZNBACOKLCUFIQSMDGVZKJHZOGZXQYKDF9XIEXE9OASJQNW'),\n",
       "  Address(b'KXZGDYDZIAV99GFAOBNHXEYWGMQSDHCRRTONXSBXMHONHUDAGDKBEFJKHBCXBYLPTCQAPCNNTBPPYZTGA')],\n",
       " [Address(b'KYHHANEFPKMQNJPJ9NAZDIJ9FQSXKEFFKRHUIJFHHQSGEIVWLDMRFLEGHELWRRTQ9ZXUAWJAZXBGFHYXX'),\n",
       "  Address(b'JOEITRDYUOHNYHANNXXKQBQAMHK9JUVQPSPVG9NZHPVHCJAVRFKHJLMZZ9UOSAALTMHHYDGTUWUKRPFHY'),\n",
       "  Address(b'FDTCKXJPVHYFYJYDVXOGXZFSTJKZIICFFTEDNOY9AXG9TXEYRDDGDPWMIJRDE9DYWYFFNZVKMZUPNOMTB'),\n",
       "  Address(b'YMABUXMQKYPWDKQGBREBMDVWPJDEVEOGJJSPMEGOILCKPWOPFSXMSEBSG9RNRR9YHMAYKEAKTEMTVMORW'),\n",
       "  Address(b'FZWZELTZAKXBLPPLYNSWQCWTQIWBABPDSLEKLJSO9LBNMSFJCVRGUQSQICIIMAMFOUGTHUVZW9PYACGLA'),\n",
       "  Address(b'PRMHLIGUFWWIYCYUMLERQ9BTJFVDAAOMELDTHKKTPETXZECIQOUDDQKQGADR99PNMJZGHTRD9KIYCLOGB'),\n",
       "  Address(b'NCLUCRIVJJZBIZJYHWOOQLAG9LTTQXCYVPMR9ZVXGFI9ITZREGDGBWFNESQEISUSKGMSLNMFSUNDJZETW'),\n",
       "  Address(b'QJLQQZUMLNDPTYLNSIBG9PYCRNLRCLMKMYBWIBEZRXDVCQRKMNGMQRNNPSZMTDLZB9POPACJJNGNNFDGX')]]"
      ]
     },
     "execution_count": 11,
     "metadata": {},
     "output_type": "execute_result"
    }
   ],
   "source": [
    "money_addresses_splits"
   ]
  },
  {
   "cell_type": "code",
   "execution_count": 12,
   "id": "caeedd4d-2e30-4186-b714-d9fa896bb24d",
   "metadata": {},
   "outputs": [],
   "source": [
    "agents = []\n",
    "for index in range(0, num_agents):\n",
    "    agents.append(Agent(np.array(demand.iloc[index]), \n",
    "                       np.array(supply.iloc[index]), \n",
    "                       index, publish_addresses, \n",
    "                       price_addresses_splits[index], \n",
    "                       money_addresses_splits[index], \n",
    "                       np.array(price.iloc[index])))"
   ]
  },
  {
   "cell_type": "code",
   "execution_count": 13,
   "id": "ac2aa593-4e24-440d-93d4-6c60a89c2131",
   "metadata": {},
   "outputs": [],
   "source": [
    "def build_address_dictionary(agents, publish_addresses):\n",
    "    agent_addresses = {}\n",
    "    agent_addresses['publish_address'] = publish_addresses\n",
    "    for index, agent in enumerate(agents):\n",
    "        agent_addresses[index] = {'price_address': agent.get_price_address(),\n",
    "                                  'money_address': agent.get_money_address()}\n",
    "    return agent_addresses"
   ]
  },
  {
   "cell_type": "code",
   "execution_count": 14,
   "id": "fe0959f5-a0a8-4660-b522-cb9b06d11afe",
   "metadata": {},
   "outputs": [],
   "source": [
    "def check_published_data(address):\n",
    "    transactions = api.find_transactions(addresses=[address,])\n",
    "\n",
    "    hashes = []\n",
    "    for txhash in transactions['hashes']:\n",
    "        hashes.append(txhash)\n",
    "        \n",
    "    trytes = api.get_trytes(hashes)['trytes']\n",
    "\n",
    "    parts = []\n",
    "    for trytestring in trytes:\n",
    "        tx = Transaction.from_tryte_string(trytestring)\n",
    "        parts.append((tx.current_index, tx.signature_message_fragment))\n",
    "\n",
    "    parts.sort(key=lambda x: x[0])\n",
    "\n",
    "    full_message = TryteString.from_unicode('')\n",
    "\n",
    "    node_data = []\n",
    "    for index, part in parts:\n",
    "#         pprint.pprint(json.loads(part.decode(errors='ignore')))8.299+8.299+8.299+8.154\n",
    "        node_data.append(json.loads(part.decode(errors='ignore')))\n",
    "\n",
    "    return node_data"
   ]
  },
  {
   "cell_type": "code",
   "execution_count": 15,
   "id": "bee89fef-4871-4bc3-a550-87c0fc979ae6",
   "metadata": {},
   "outputs": [],
   "source": [
    "def single_sided_auction(node_data):\n",
    "    node_vec = []\n",
    "    supply_vec = []\n",
    "    supply_price = []\n",
    "    demand = []\n",
    "    ED = 0\n",
    "    for node in node_data:\n",
    "        node_vec.append(node['node'])\n",
    "        supply_vec.append(node['supply'])\n",
    "        supply_price.append(node['price'])\n",
    "        demand.append(node['demand'])\n",
    "        ED += node['demand']\n",
    "    supply_df = pd.DataFrame(data = {'Agents': node_vec, 'Supply': supply_vec, 'Price': supply_price, 'Demand': demand})\n",
    "    supply_df = supply_df.sort_values(by='Price')\n",
    "    cum_supply = np.cumsum(supply_df['Supply'])\n",
    "    supply_df['Cumsup'] = cum_supply\n",
    "\n",
    "    cum_demand = np.cumsum(supply_df['Demand'])\n",
    "    supply_df['Cumdem'] = cum_demand\n",
    "    for index, value in enumerate(supply_df.Cumsup):\n",
    "        if value >= ED:\n",
    "            break\n",
    "    return supply_df, ED, supply_df.iloc[index]['Price']"
   ]
  },
  {
   "cell_type": "code",
   "execution_count": 16,
   "id": "2629b522-235f-47ec-99b2-e9e57cbd28c1",
   "metadata": {},
   "outputs": [],
   "source": [
    "addresses_dict = build_address_dictionary(agents, publish_addresses)\n",
    "for agent in agents:\n",
    "    agent.assign_address_dict(addresses_dict)"
   ]
  },
  {
   "cell_type": "markdown",
   "id": "4980d598-8c56-47f4-bdad-91957d6676e7",
   "metadata": {},
   "source": [
    "### Microgrid creation"
   ]
  },
  {
   "cell_type": "code",
   "execution_count": 17,
   "id": "54b5cfcb-47ba-4fb4-93f7-d9ca7b042518",
   "metadata": {},
   "outputs": [],
   "source": [
    "def micro_grid_exec(step):\n",
    "    net = pp.create_empty_network()\n",
    "    min_pu = 0.95\n",
    "    max_pu = 1.05\n",
    "\n",
    "    bus = []\n",
    "    for index in range(len(agents)):\n",
    "        bus.append(pp.create_bus(net, vn_kv=110, min_vm_pu=min_pu, max_vm_pu=max_pu))\n",
    "\n",
    "    # bus0 = pp.create_bus(net, vn_kv=110, min_vm_pu=min_pu, max_vm_pu=max_pu)\n",
    "    # bus1 = pp.create_bus(net, vn_kv=110, min_vm_pu=min_pu, max_vm_pu=max_pu)\n",
    "    # bus2 = pp.create_bus(net, vn_kv=110, min_vm_pu=min_pu, max_vm_pu=max_pu)\n",
    "    # bus3 = pp.create_bus(net, vn_kv=110, min_vm_pu=min_pu, max_vm_pu=max_pu)\n",
    "    # bus4 = pp.create_bus(net, vn_kv=110, min_vm_pu=min_pu, max_vm_pu=max_pu)\n",
    "    # bus5 = pp.create_bus(net, vn_kv=110, min_vm_pu=min_pu, max_vm_pu=max_pu)\n",
    "\n",
    "    lines = []\n",
    "    for index in range(len(agents)):\n",
    "        if index < len(agents) - 1:\n",
    "            lines.append(pp.create_line(net, bus[index], bus[index+1], length_km=1, std_type='149-AL1/24-ST1A 110.0'))\n",
    "        else:\n",
    "            lines.append(pp.create_line(net, bus[index], bus[0], length_km=1, std_type='149-AL1/24-ST1A 110.0'))\n",
    "\n",
    "    # line1 = pp.create_line(net, bus0, bus1, length_km=1, std_type='149-AL1/24-ST1A 110.0')\n",
    "    # line2 = pp.create_line(net, bus1, bus2, length_km=1, std_type='149-AL1/24-ST1A 110.0')\n",
    "    # line3 = pp.create_line(net, bus2, bus3, length_km=1, std_type='149-AL1/24-ST1A 110.0')\n",
    "    # line4 = pp.create_line(net, bus3, bus4, length_km=1, std_type='149-AL1/24-ST1A 110.0')\n",
    "    # line5 = pp.create_line(net, bus4, bus5, length_km=1, std_type='149-AL1/24-ST1A 110.0')\n",
    "    # line6 = pp.create_line(net, bus5, bus0, length_km=1, std_type='149-AL1/24-ST1A 110.0')\n",
    "\n",
    "    for index in range(len(agents)):\n",
    "        pp.create_load(net, bus[index], p_mw=supply_df['Demand'][index])\n",
    "\n",
    "    # pp.create_load(net, bus0, p_mw=supply_df['Demand'][0])\n",
    "    # pp.create_load(net, bus1, p_mw=supply_df['Demand'][1])\n",
    "    # pp.create_load(net, bus2, p_mw=supply_df['Demand'][2])\n",
    "    # pp.create_load(net, bus3, p_mw=supply_df['Demand'][3])\n",
    "    # pp.create_load(net, bus4, p_mw=supply_df['Demand'][4])\n",
    "    # pp.create_load(net, bus5, p_mw=supply_df['Demand'][5])\n",
    "\n",
    "    gens = []\n",
    "    for index in range(len(agents)):\n",
    "        if supply.iloc[index][step + 1] != 0:\n",
    "            pp.create_gen(net, bus[index], p_mw=0, min_p_mw=0, max_p_mw=np.array(supply[step + 1])[index], controllable=True, slack=True)\n",
    "            \n",
    "    pp.runpp(net)\n",
    "    pf_result = net.res_gen\n",
    "    \n",
    "    return pf_result"
   ]
  },
  {
   "cell_type": "code",
   "execution_count": 18,
   "id": "44370f1e-aa8c-4486-bdff-a3f23d4c57ff",
   "metadata": {},
   "outputs": [],
   "source": [
    "nodes = [0,1,2,3,4,5]"
   ]
  },
  {
   "cell_type": "code",
   "execution_count": 19,
   "id": "1ac0538d-142f-4286-b340-f04d092c1443",
   "metadata": {},
   "outputs": [],
   "source": [
    "def payment_setup(step, price):\n",
    "    power_per_agent = []\n",
    "    for agent in agents:\n",
    "        agent.get_node()\n",
    "        demand = agent.demand[0]\n",
    "        try:\n",
    "            supply = gen_dict[agent.get_node()]\n",
    "        except:\n",
    "            supply = agent.get_supply()[0]\n",
    "        to_app = supply - demand\n",
    "        if abs(to_app) < 0.00001:\n",
    "            to_app = 0\n",
    "        power_per_agent.append(to_app)\n",
    "    to_earn = {}\n",
    "    to_pay = {}\n",
    "    for index, payment in enumerate(power_per_agent):\n",
    "        if payment < 0:\n",
    "            to_pay[index] = abs(payment)\n",
    "        else:\n",
    "            to_earn[index] = payment\n",
    "    \n",
    "    payment_info = {}\n",
    "    for payer, balance in to_pay.items():\n",
    "        payment_info[payer] = {'node': [], 'total': []}\n",
    "        for earner, gain in to_earn.items():\n",
    "            if gain > 0:\n",
    "                if balance >= gain:\n",
    "                    payment_info[payer]['node'].append(earner)\n",
    "                    payment_info[payer]['total'].append(gain)\n",
    "                    to_pay[payer] = to_pay[payer] - gain\n",
    "                    to_earn[earner] = to_earn[earner] - gain\n",
    "                elif balance < gain:\n",
    "                    payment_info[payer]['node'].append(earner)\n",
    "                    payment_info[payer]['total'].append(balance)\n",
    "                    to_pay[payer] = to_pay[payer] - balance\n",
    "                    to_earn[earner] = to_earn[earner] - balance\n",
    "                    break\n",
    "    gather_data = {}\n",
    "    for index, agent in enumerate(agents):\n",
    "        info_dict = {}\n",
    "        info_dict['price'] = price\n",
    "        try:\n",
    "            info_dict['node'] = payment_info[index]['node']\n",
    "            info_dict['power'] = payment_info[index]['total']\n",
    "        except:\n",
    "            pass\n",
    "        gather_data[index] = info_dict\n",
    "    print(power_per_agent)\n",
    "    for index, agent in enumerate(agents):\n",
    "        address = addresses_dict[index]['price_address'][step]\n",
    "        data = gather_data[index]\n",
    "        tx = ProposedTransaction(address=Address(address), message=TryteString.from_unicode(json.dumps(data)), tag=Tag('PRICE'),value=0)\n",
    "\n",
    "        tx = api.prepare_transfer(transfers=[tx])\n",
    "\n",
    "        result = api.send_trytes(tx['trytes'], depth=3, min_weight_magnitude=9)\n",
    "    pay_nodes = set(nodes) - set(gen_nodes)\n",
    "    for node in pay_nodes:\n",
    "        agents[node].pay_power(step)"
   ]
  },
  {
   "cell_type": "code",
   "execution_count": 20,
   "id": "07a1aec2-29ef-436e-a94f-dd69d5f71658",
   "metadata": {},
   "outputs": [
    {
     "name": "stdout",
     "output_type": "stream",
     "text": [
      "        p_mw    q_mvar  va_degree  vm_pu\n",
      "0  66.801724 -0.028567        0.0    1.0\n",
      "1  66.436975 -0.028873        0.0    1.0\n",
      "2  33.418820 -0.033262        0.0    1.0\n",
      "3  33.155090 -0.033262        0.0    1.0\n",
      "[33.646633493534736, -33.3149762, -33.67162466, 33.373811106313454, 0.26562703999999115, -0.2637296700000107]\n",
      "        p_mw    q_mvar  va_degree  vm_pu\n",
      "0  69.653050 -0.025481        0.0    1.0\n",
      "1  69.170958 -0.025598        0.0    1.0\n",
      "2  34.485592 -0.033262        0.0    1.0\n",
      "3  34.228278 -0.033262        0.0    1.0\n",
      "[36.49795967014704, -33.3149762, -33.67162466, 36.10779379515451, 1.3323992300000143, 0.8094585299999935]\n",
      "        p_mw    q_mvar  va_degree  vm_pu\n",
      "0  70.797143 -0.023728        0.0    1.0\n",
      "1  70.875526 -0.023769        0.0    1.0\n",
      "2  35.118582 -0.033262        0.0    1.0\n",
      "3  35.045856 -0.033262        0.0    1.0\n",
      "[37.64205243647528, -33.3149762, -33.67162466, 37.81236181538968, 1.9653893699999898, 1.6270360299999922]\n",
      "        p_mw    q_mvar  va_degree  vm_pu\n",
      "0  64.601980 -0.031050        0.0    1.0\n",
      "1  65.304447 -0.031023        0.0    1.0\n",
      "2  32.028186 -0.033262        0.0    1.0\n",
      "3  32.742197 -0.033262        0.0    1.0\n",
      "[31.446890020222924, -33.3149762, -33.67162466, 32.24128280886161, -1.12500674999999, -0.6766232199999891]\n",
      "        p_mw    q_mvar  va_degree  vm_pu\n",
      "0  63.588866 -0.032229        0.0    1.0\n",
      "1  62.994928 -0.032173        0.0    1.0\n",
      "2  31.414728 -0.033262        0.0    1.0\n",
      "3  31.072765 -0.033262        0.0    1.0\n",
      "[30.433775668856768, -33.3149762, -33.67162466, 29.931763795484642, -1.738464779999994, -2.346054869999996]\n",
      "        p_mw    q_mvar  va_degree  vm_pu\n",
      "0  61.235299 -0.034142        0.0    1.0\n",
      "1  61.576417 -0.034187        0.0    1.0\n",
      "2  30.178111 -0.033262        0.0    1.0\n",
      "3  30.244299 -0.033262        0.0    1.0\n",
      "[28.080208431843687, -33.3149762, -33.67162466, 28.51325262971801, -2.975081320000008, -3.1745202899999825]\n",
      "        p_mw    q_mvar  va_degree  vm_pu\n",
      "0  62.897453 -0.032638        0.0    1.0\n",
      "1  63.325673 -0.032406        0.0    1.0\n",
      "2  31.895472 -0.033262        0.0    1.0\n",
      "3  31.530618 -0.033262        0.0    1.0\n",
      "[29.742362884686372, -33.3149762, -33.67162466, 30.262509145591437, -1.2577202899999875, -1.8882018200000132]\n",
      "        p_mw    q_mvar  va_degree  vm_pu\n",
      "0  65.205065 -0.030708        0.0    1.0\n",
      "1  65.465563 -0.030604        0.0    1.0\n",
      "2  32.660996 -0.033262        0.0    1.0\n",
      "3  32.541016 -0.033262        0.0    1.0\n",
      "[32.0499746988467, -33.3149762, -33.67162466, 32.402398782414835, -0.492196359999987, -0.8778037699999928]\n"
     ]
    }
   ],
   "source": [
    "actual_gen = []\n",
    "for step in range(steps):\n",
    "    for index, agent in enumerate(agents):\n",
    "        agent.publish_energy_info(step)\n",
    "    node_data = check_published_data(publish_addresses[step])\n",
    "    supply_df, ED, auction_price = single_sided_auction(node_data)\n",
    "    pf_result = micro_grid_exec(step)\n",
    "    supply_df.set_index('Agents', inplace=True)\n",
    "    gen_values = pf_result['p_mw']\n",
    "    gen_dict = dict(zip(gen_nodes, gen_values))\n",
    "    print(pf_result)\n",
    "    total_demand = sum(supply_df['Demand'])\n",
    "    total_supply = sum(gen_dict.values())\n",
    "    losses = total_supply - total_demand\n",
    "    payment_setup(step, auction_price)\n",
    "    # returned_ppa = payment_setup(step, auction_price)\n",
    "    # actual_gen.append(sum(x for x in returned_ppa if x > 0))\n",
    "    # actual_gen.append(sum(np.abs(returned_ppa)))\n",
    "    actual_gen.append(sum(pf_result['p_mw']))"
   ]
  },
  {
   "cell_type": "code",
   "execution_count": 21,
   "id": "1a2fe5c0-3d63-4c64-bd2b-1488cb82e480",
   "metadata": {},
   "outputs": [
    {
     "name": "stdout",
     "output_type": "stream",
     "text": [
      "[{'price': 12.96758635}]\n",
      "[{'price': 12.96758635, 'node': [0], 'power': [33.3149762]}]\n",
      "[{'price': 12.96758635, 'node': [0, 3, 4], 'power': [0.3316572935347395, 33.373811106313454, 0.26562703999999115]}]\n",
      "[{'price': 12.96758635}]\n",
      "[{'price': 12.96758635}]\n",
      "[{'price': 12.96758635, 'node': [], 'power': []}]\n"
     ]
    }
   ],
   "source": [
    "step = 0\n",
    "for agent in agents:\n",
    "    print(agent.check_address(step, 'price'))"
   ]
  },
  {
   "cell_type": "code",
   "execution_count": 22,
   "id": "7f2d7760-067c-4e9d-9a88-420914aeeb67",
   "metadata": {},
   "outputs": [
    {
     "name": "stdout",
     "output_type": "stream",
     "text": [
      "[{'payment': 432.0148306216948}, {'payment': 4.300794592519031}]\n",
      "[{'payment': 432.77777734970874}]\n"
     ]
    }
   ],
   "source": [
    "step = 0\n",
    "print(agents[0].check_address(step, 'money'))\n",
    "print(agents[3].check_address(step, 'money'))"
   ]
  },
  {
   "cell_type": "code",
   "execution_count": 23,
   "id": "f676ccbc-7b7b-47ee-bf42-82376fda9c0f",
   "metadata": {},
   "outputs": [
    {
     "data": {
      "text/plain": [
       "{0: 65.2050647888467,\n",
       " 3: 65.46556298241484,\n",
       " 4: 32.66099636000001,\n",
       " 5: 32.541015990000005}"
      ]
     },
     "execution_count": 23,
     "metadata": {},
     "output_type": "execute_result"
    }
   ],
   "source": [
    "gen_dict"
   ]
  },
  {
   "cell_type": "code",
   "execution_count": 24,
   "id": "b926c12b-d09e-4b71-8eb1-96a84b483378",
   "metadata": {},
   "outputs": [
    {
     "data": {
      "text/plain": [
       "[{'price': 12.96758635}]"
      ]
     },
     "execution_count": 24,
     "metadata": {},
     "output_type": "execute_result"
    }
   ],
   "source": [
    "agents[0].check_address(step, 'price')"
   ]
  },
  {
   "cell_type": "code",
   "execution_count": 25,
   "id": "f5a4633f-283f-4ca9-adfa-f3a634f4e852",
   "metadata": {},
   "outputs": [],
   "source": [
    "vec = []\n",
    "for step in range(8):\n",
    "    vec.append(agents[0].check_address(step, 'price')[0]['price'])"
   ]
  },
  {
   "cell_type": "code",
   "execution_count": 26,
   "id": "12fb5377-ee58-4e62-9596-f65bff21f961",
   "metadata": {},
   "outputs": [
    {
     "data": {
      "image/png": "[encoded data removed]",
      "text/plain": [
       "<Figure size 504x288 with 1 Axes>"
      ]
     },
     "metadata": {
      "needs_background": "light"
     },
     "output_type": "display_data"
    }
   ],
   "source": [
    "import matplotlib.pyplot as plt\n",
    "plt.figure(figsize=(7,4))\n",
    "plt.plot([1,2,3,4,5,6,7,8], vec)\n",
    "plt.xlabel('Paso', fontsize=10)\n",
    "plt.ylabel('Precio ($)', fontsize=10)\n",
    "plt.title('Comportamiento del precio en diferentes pasos', fontsize=18)\n",
    "plt.savefig('./results/price_behaviour.png')"
   ]
  },
  {
   "cell_type": "code",
   "execution_count": 27,
   "id": "5dc34dfc-1b8b-4142-bb87-ff8f643185ff",
   "metadata": {},
   "outputs": [
    {
     "data": {
      "image/png": "[encoded data removed]",
      "text/plain": [
       "<Figure size 504x288 with 1 Axes>"
      ]
     },
     "metadata": {
      "needs_background": "light"
     },
     "output_type": "display_data"
    }
   ],
   "source": [
    "demand.sum(axis=0).plot(figsize=(7,4))\n",
    "plt.title('Consumo total por paso', fontsize=18)\n",
    "plt.xlabel('Paso', fontsize=10)\n",
    "plt.ylabel('Comsumo (W)', fontsize=10)\n",
    "plt.savefig('./results/comsumption.png')"
   ]
  },
  {
   "cell_type": "code",
   "execution_count": 28,
   "id": "98fb046c-9de1-4dc0-8451-82603ca603d3",
   "metadata": {},
   "outputs": [
    {
     "data": {
      "image/png": "[encoded data removed]",
      "text/plain": [
       "<Figure size 504x288 with 1 Axes>"
      ]
     },
     "metadata": {
      "needs_background": "light"
     },
     "output_type": "display_data"
    }
   ],
   "source": [
    "supply.sum(axis=0).plot(figsize=(7,4))\n",
    "plt.title('Generación total por paso', fontsize=18)\n",
    "plt.xlabel('Paso', fontsize=10)\n",
    "plt.ylabel('Generación (W)', fontsize=10)\n",
    "plt.savefig('./results/generation.png')"
   ]
  },
  {
   "cell_type": "code",
   "execution_count": 29,
   "id": "dcddb245-6224-486e-aa63-5c1b6cecfe85",
   "metadata": {},
   "outputs": [
    {
     "data": {
      "text/plain": [
       "Text(0, 0.5, 'Comsumo (W)')"
      ]
     },
     "execution_count": 29,
     "metadata": {},
     "output_type": "execute_result"
    },
    {
     "data": {
      "image/png": "[encoded data removed]",
      "text/plain": [
       "<Figure size 504x288 with 1 Axes>"
      ]
     },
     "metadata": {
      "needs_background": "light"
     },
     "output_type": "display_data"
    }
   ],
   "source": [
    "demand.sum(axis=0).plot(figsize=(7,4))\n",
    "supply.sum(axis=0).plot(figsize=(7,4))\n",
    "plt.title('Consumo total por paso', fontsize=18)\n",
    "plt.xlabel('Paso', fontsize=10)\n",
    "plt.ylabel('Comsumo (W)', fontsize=10)\n",
    "# plt.savefig('./results/comsumption.png')"
   ]
  },
  {
   "cell_type": "code",
   "execution_count": 30,
   "id": "1d42fc98-e262-42a4-b178-3aa12ee7e795",
   "metadata": {},
   "outputs": [],
   "source": [
    "node_vec = []\n",
    "supply_vec = []\n",
    "supply_price = []\n",
    "demand = []\n",
    "ED = 0\n",
    "for node in node_data:\n",
    "    node_vec.append(node['node'])\n",
    "    supply_vec.append(node['supply'])\n",
    "    supply_price.append(node['price'])\n",
    "    demand.append(node['demand'])\n",
    "    ED += node['demand']\n",
    "supply_df = pd.DataFrame(data = {'Agents': node_vec, 'Supply': supply_vec, 'Price': supply_price, 'Demand': demand})\n",
    "supply_df = supply_df.sort_values(by='Price')\n",
    "cum_supply = np.cumsum(supply_df['Supply'])\n",
    "supply_df['Cumsup'] = cum_supply\n",
    "\n",
    "cum_demand = np.cumsum(supply_df['Demand'])\n",
    "supply_df['Cumdem'] = cum_demand\n",
    "for index, value in enumerate(supply_df.Cumsup):\n",
    "    if value >= ED:\n",
    "        break"
   ]
  },
  {
   "cell_type": "code",
   "execution_count": 31,
   "id": "101f2dd9-449c-4c7a-bf01-8a42c0622af1",
   "metadata": {},
   "outputs": [
    {
     "data": {
      "text/html": [
       "<div>\n",
       "<style scoped>\n",
       "    .dataframe tbody tr th:only-of-type {\n",
       "        vertical-align: middle;\n",
       "    }\n",
       "\n",
       "    .dataframe tbody tr th {\n",
       "        vertical-align: top;\n",
       "    }\n",
       "\n",
       "    .dataframe thead th {\n",
       "        text-align: right;\n",
       "    }\n",
       "</style>\n",
       "<table border=\"1\" class=\"dataframe\">\n",
       "  <thead>\n",
       "    <tr style=\"text-align: right;\">\n",
       "      <th></th>\n",
       "      <th>Agents</th>\n",
       "      <th>Supply</th>\n",
       "      <th>Price</th>\n",
       "      <th>Demand</th>\n",
       "      <th>Cumsup</th>\n",
       "      <th>Cumdem</th>\n",
       "    </tr>\n",
       "  </thead>\n",
       "  <tbody>\n",
       "    <tr>\n",
       "      <th>1</th>\n",
       "      <td>1</td>\n",
       "      <td>0.000000</td>\n",
       "      <td>0.000000</td>\n",
       "      <td>32.396152</td>\n",
       "      <td>0.000000</td>\n",
       "      <td>32.396152</td>\n",
       "    </tr>\n",
       "    <tr>\n",
       "      <th>2</th>\n",
       "      <td>2</td>\n",
       "      <td>0.000000</td>\n",
       "      <td>0.000000</td>\n",
       "      <td>32.608393</td>\n",
       "      <td>0.000000</td>\n",
       "      <td>65.004545</td>\n",
       "    </tr>\n",
       "    <tr>\n",
       "      <th>4</th>\n",
       "      <td>4</td>\n",
       "      <td>69.124192</td>\n",
       "      <td>13.691178</td>\n",
       "      <td>32.660996</td>\n",
       "      <td>69.124192</td>\n",
       "      <td>97.665541</td>\n",
       "    </tr>\n",
       "    <tr>\n",
       "      <th>0</th>\n",
       "      <td>0</td>\n",
       "      <td>69.037116</td>\n",
       "      <td>14.001764</td>\n",
       "      <td>32.721235</td>\n",
       "      <td>138.161308</td>\n",
       "      <td>130.386777</td>\n",
       "    </tr>\n",
       "    <tr>\n",
       "      <th>3</th>\n",
       "      <td>3</td>\n",
       "      <td>68.698914</td>\n",
       "      <td>14.139818</td>\n",
       "      <td>32.910938</td>\n",
       "      <td>206.860222</td>\n",
       "      <td>163.297714</td>\n",
       "    </tr>\n",
       "    <tr>\n",
       "      <th>5</th>\n",
       "      <td>5</td>\n",
       "      <td>68.874392</td>\n",
       "      <td>14.150579</td>\n",
       "      <td>32.541016</td>\n",
       "      <td>275.734614</td>\n",
       "      <td>195.838730</td>\n",
       "    </tr>\n",
       "  </tbody>\n",
       "</table>\n",
       "</div>"
      ],
      "text/plain": [
       "   Agents     Supply      Price     Demand      Cumsup      Cumdem\n",
       "1       1   0.000000   0.000000  32.396152    0.000000   32.396152\n",
       "2       2   0.000000   0.000000  32.608393    0.000000   65.004545\n",
       "4       4  69.124192  13.691178  32.660996   69.124192   97.665541\n",
       "0       0  69.037116  14.001764  32.721235  138.161308  130.386777\n",
       "3       3  68.698914  14.139818  32.910938  206.860222  163.297714\n",
       "5       5  68.874392  14.150579  32.541016  275.734614  195.838730"
      ]
     },
     "execution_count": 31,
     "metadata": {},
     "output_type": "execute_result"
    }
   ],
   "source": [
    "supply_df"
   ]
  },
  {
   "cell_type": "code",
   "execution_count": 32,
   "id": "2a3d6b68-39aa-4b7b-9f1d-c8e1a239358b",
   "metadata": {},
   "outputs": [
    {
     "data": {
      "image/png": "[encoded data removed]",
      "text/plain": [
       "<Figure size 432x288 with 1 Axes>"
      ]
     },
     "metadata": {
      "needs_background": "light"
     },
     "output_type": "display_data"
    }
   ],
   "source": [
    "supply_df = supply_df.reset_index()\n",
    "plt.plot([1,2,3,4,5, 6], supply_df['Cumsup'])\n",
    "plt.plot([1,2,3,4,5, 6], list(reversed(supply_df['Cumdem'])))\n",
    "plt.title('Generación y consumo en un paso', fontsize=18)\n",
    "plt.xlabel('Agentes', fontsize=10)\n",
    "plt.ylabel('Potencia (W)', fontsize=10)\n",
    "plt.legend(['Oferta', 'Demanda'])\n",
    "plt.savefig('./results/gen_con.png')"
   ]
  }
 ],
 "metadata": {
  "kernelspec": {
   "display_name": "microgrid_venv",
   "language": "python",
   "name": "microgrid_venv"
  },
  "language_info": {
   "codemirror_mode": {
    "name": "ipython",
    "version": 3
   },
   "file_extension": ".py",
   "mimetype": "text/x-python",
   "name": "python",
   "nbconvert_exporter": "python",
   "pygments_lexer": "ipython3",
   "version": "3.6.9"
  }
 },
 "nbformat": 4,
 "nbformat_minor": 5
}
